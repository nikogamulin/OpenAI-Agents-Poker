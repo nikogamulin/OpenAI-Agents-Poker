{
 "cells": [
  {
   "cell_type": "code",
   "execution_count": 10,
   "metadata": {},
   "outputs": [],
   "source": [
    "import glob\n",
    "import pandas as pd\n",
    "import pickle"
   ]
  },
  {
   "cell_type": "code",
   "execution_count": 11,
   "metadata": {},
   "outputs": [],
   "source": [
    "game_files = glob.glob('../data/complex_evaluation_thorough/*.pkl')"
   ]
  },
  {
   "cell_type": "code",
   "execution_count": 12,
   "metadata": {},
   "outputs": [],
   "source": [
    "games = []\n",
    "for game_file in game_files:\n",
    "    with open(game_file, 'rb') as file:\n",
    "        game = pickle.load(file)\n",
    "        game['id'] = int(game_file.split('/')[-1].split('.')[0].split('_')[-1])\n",
    "        games.append(game)"
   ]
  },
  {
   "cell_type": "code",
   "execution_count": 31,
   "metadata": {},
   "outputs": [
    {
     "data": {
      "text/plain": [
       "50"
      ]
     },
     "execution_count": 31,
     "metadata": {},
     "output_type": "execute_result"
    }
   ],
   "source": [
    "len(games)"
   ]
  },
  {
   "cell_type": "code",
   "execution_count": 13,
   "metadata": {},
   "outputs": [
    {
     "data": {
      "text/plain": [
       "{'bet_history': [('Owen', 1, 'Small Blind', 'Pre-flop'),\n",
       "  ('Jack', 2, 'Big Blind', 'Pre-flop'),\n",
       "  ('Evan', 2, 'Call', 'Pre-flop'),\n",
       "  ('Evan', 2, 'Call', 'Flop'),\n",
       "  ('Owen', 2, 'Call', 'Flop'),\n",
       "  ('Jack', 0, 'Fold', 'Flop'),\n",
       "  ('Evan', 2, 'Call', 'Turn'),\n",
       "  ('Owen', 2, 'Call', 'Turn'),\n",
       "  ('Evan', 2, 'Call', 'River'),\n",
       "  ('Owen', 2, 'Call', 'River')],\n",
       " 'reasoning_history': [('Evan',\n",
       "   'The hand 10 of Spades and Queen of Clubs has potential, especially considering the game is in the pre-flop stage and no community cards have been revealed yet. Calling the current bet of 2 chips is a reasonable move, as it matches the big blind and allows for the opportunity to see the flop without committing too many chips. The decision to call also takes into account the shallow stack size (10 chips), making it risky to play aggressively without a stronger hand or more information from community cards.',\n",
       "   'Pre-flop',\n",
       "   2,\n",
       "   [],\n",
       "   [('Owen', 1, 'Small Blind', 'Pre-flop'),\n",
       "    ('Jack', 2, 'Big Blind', 'Pre-flop'),\n",
       "    ('Evan', 2, 'Call', 'Pre-flop')]),\n",
       "  ('Evan',\n",
       "   'You have a good hand with a pair of Queens. The community cards do not pose a significant threat to your hand as of now, and no one has shown aggressive betting that would indicate a stronger hand. Calling is the best option to stay in the game and see the next community card, especially since you have enough chips to match the current bet of 2.',\n",
       "   'Flop',\n",
       "   2,\n",
       "   [('5', '♣'), ('6', '♥'), ('Q', '♠')],\n",
       "   [('Owen', 1, 'Small Blind', 'Pre-flop'),\n",
       "    ('Jack', 2, 'Big Blind', 'Pre-flop'),\n",
       "    ('Evan', 2, 'Call', 'Pre-flop'),\n",
       "    ('Evan', 2, 'Call', 'Flop')]),\n",
       "  ('Owen',\n",
       "   'Currently, you have a pair of 6s, which is a weak hand but not entirely hopeless given the community cards. The current bet of 2 is modest, and calling allows you to see the next card without committing too many chips. Folding would be too conservative, and raising would be too risky with a weak pair.',\n",
       "   'Flop',\n",
       "   2,\n",
       "   [('5', '♣'), ('6', '♥'), ('Q', '♠')],\n",
       "   [('Owen', 1, 'Small Blind', 'Pre-flop'),\n",
       "    ('Jack', 2, 'Big Blind', 'Pre-flop'),\n",
       "    ('Evan', 2, 'Call', 'Pre-flop'),\n",
       "    ('Evan', 2, 'Call', 'Flop'),\n",
       "    ('Owen', 2, 'Call', 'Flop')]),\n",
       "  ('Jack',\n",
       "   \"Based on the current hand and the bet history, it seems that the opponents have a stronger hand. It's best to fold in this situation to minimize potential losses.\",\n",
       "   'Flop',\n",
       "   2,\n",
       "   [('5', '♣'), ('6', '♥'), ('Q', '♠')],\n",
       "   [('Owen', 1, 'Small Blind', 'Pre-flop'),\n",
       "    ('Jack', 2, 'Big Blind', 'Pre-flop'),\n",
       "    ('Evan', 2, 'Call', 'Pre-flop'),\n",
       "    ('Evan', 2, 'Call', 'Flop'),\n",
       "    ('Owen', 2, 'Call', 'Flop'),\n",
       "    ('Jack', 0, 'Fold', 'Flop')]),\n",
       "  ('Evan',\n",
       "   'With a pair of Queens in hand and one Queen on the community board, holding a top pair makes for a relatively strong hand in this situation. The current bet is only 2 chips, which I can afford given my chip count of 6. Considering the bet history where opponents have mainly called without aggressive raises post-flop, it suggests that their hands might not be very strong, increasing the likelihood that my top pair could be leading. Therefore, calling is a reasonable decision to stay in the game and see the river.',\n",
       "   'Turn',\n",
       "   2,\n",
       "   [('5', '♣'), ('6', '♥'), ('Q', '♠'), ('4', '♦')],\n",
       "   [('Owen', 1, 'Small Blind', 'Pre-flop'),\n",
       "    ('Jack', 2, 'Big Blind', 'Pre-flop'),\n",
       "    ('Evan', 2, 'Call', 'Pre-flop'),\n",
       "    ('Evan', 2, 'Call', 'Flop'),\n",
       "    ('Owen', 2, 'Call', 'Flop'),\n",
       "    ('Jack', 0, 'Fold', 'Flop'),\n",
       "    ('Evan', 2, 'Call', 'Turn')]),\n",
       "  ('Owen',\n",
       "   'I have a pair of 6s, which is a decent hand given the current board. The current bet is 2 chips, which I can afford with my remaining stack. The opponents have been cautious, with no significant raises, indicating they might not have very strong hands. Therefore, calling is a reasonable decision to see the river card without risking too many chips.',\n",
       "   'Turn',\n",
       "   2,\n",
       "   [('5', '♣'), ('6', '♥'), ('Q', '♠'), ('4', '♦')],\n",
       "   [('Owen', 1, 'Small Blind', 'Pre-flop'),\n",
       "    ('Jack', 2, 'Big Blind', 'Pre-flop'),\n",
       "    ('Evan', 2, 'Call', 'Pre-flop'),\n",
       "    ('Evan', 2, 'Call', 'Flop'),\n",
       "    ('Owen', 2, 'Call', 'Flop'),\n",
       "    ('Jack', 0, 'Fold', 'Flop'),\n",
       "    ('Evan', 2, 'Call', 'Turn'),\n",
       "    ('Owen', 2, 'Call', 'Turn')]),\n",
       "  ('Evan',\n",
       "   'With a pair of Queens on the board and no apparent strong flush or straight possibilities from the community cards, the hand has moderate strength. The current bet is 2, which matches the remaining chips I have. Calling to see the showdown could potentially win the pot, as no opponent actions strongly indicate a higher pair or set. Folding would be too conservative given the strength of the pair of Queens, and raising is not an option due to insufficient chips.',\n",
       "   'River',\n",
       "   2,\n",
       "   [('5', '♣'), ('6', '♥'), ('Q', '♠'), ('4', '♦'), ('J', '♥')],\n",
       "   [('Owen', 1, 'Small Blind', 'Pre-flop'),\n",
       "    ('Jack', 2, 'Big Blind', 'Pre-flop'),\n",
       "    ('Evan', 2, 'Call', 'Pre-flop'),\n",
       "    ('Evan', 2, 'Call', 'Flop'),\n",
       "    ('Owen', 2, 'Call', 'Flop'),\n",
       "    ('Jack', 0, 'Fold', 'Flop'),\n",
       "    ('Evan', 2, 'Call', 'Turn'),\n",
       "    ('Owen', 2, 'Call', 'Turn'),\n",
       "    ('Evan', 2, 'Call', 'River')]),\n",
       "  ('Owen',\n",
       "   \"I have a pair of 6s, which is a marginal hand. The community cards show some potential straights and pairs, but nothing too threatening. With only 3 chips left after calling, a fold might be too conservative. Considering the low current bet and the opponents' behavior of consistently calling, it's reasonable to call and see the showdown.\",\n",
       "   'River',\n",
       "   2,\n",
       "   [('5', '♣'), ('6', '♥'), ('Q', '♠'), ('4', '♦'), ('J', '♥')],\n",
       "   [('Owen', 1, 'Small Blind', 'Pre-flop'),\n",
       "    ('Jack', 2, 'Big Blind', 'Pre-flop'),\n",
       "    ('Evan', 2, 'Call', 'Pre-flop'),\n",
       "    ('Evan', 2, 'Call', 'Flop'),\n",
       "    ('Owen', 2, 'Call', 'Flop'),\n",
       "    ('Jack', 0, 'Fold', 'Flop'),\n",
       "    ('Evan', 2, 'Call', 'Turn'),\n",
       "    ('Owen', 2, 'Call', 'Turn'),\n",
       "    ('Evan', 2, 'Call', 'River'),\n",
       "    ('Owen', 2, 'Call', 'River')])],\n",
       " 'winner': 'Evan',\n",
       " 'role': 'Dealer',\n",
       " 'winner_model': 'gpt-4-turbo',\n",
       " 'winning_amount': 19,\n",
       " 'id': 42}"
      ]
     },
     "execution_count": 13,
     "metadata": {},
     "output_type": "execute_result"
    }
   ],
   "source": [
    "games[2]"
   ]
  },
  {
   "cell_type": "code",
   "execution_count": 14,
   "metadata": {},
   "outputs": [],
   "source": [
    "games_with_winners = list(filter(lambda x: 'winner' in x.keys(), games))\n",
    "winning_stats = list(map(lambda x: {'winner': x['winner'], 'winner_role': x['role'], 'model': x['winner_model'], 'winning_amount': x['winning_amount']}, games_with_winners))"
   ]
  },
  {
   "cell_type": "code",
   "execution_count": 15,
   "metadata": {},
   "outputs": [
    {
     "data": {
      "text/plain": [
       "21"
      ]
     },
     "execution_count": 15,
     "metadata": {},
     "output_type": "execute_result"
    }
   ],
   "source": [
    "len(winning_stats)"
   ]
  },
  {
   "cell_type": "code",
   "execution_count": 16,
   "metadata": {},
   "outputs": [],
   "source": [
    "df_winning_stats = pd.DataFrame(winning_stats)"
   ]
  },
  {
   "cell_type": "code",
   "execution_count": 17,
   "metadata": {},
   "outputs": [
    {
     "data": {
      "text/html": [
       "<div>\n",
       "<style scoped>\n",
       "    .dataframe tbody tr th:only-of-type {\n",
       "        vertical-align: middle;\n",
       "    }\n",
       "\n",
       "    .dataframe tbody tr th {\n",
       "        vertical-align: top;\n",
       "    }\n",
       "\n",
       "    .dataframe thead th {\n",
       "        text-align: right;\n",
       "    }\n",
       "</style>\n",
       "<table border=\"1\" class=\"dataframe\">\n",
       "  <thead>\n",
       "    <tr style=\"text-align: right;\">\n",
       "      <th></th>\n",
       "      <th>winner</th>\n",
       "      <th>winner_role</th>\n",
       "      <th>model</th>\n",
       "      <th>winning_amount</th>\n",
       "    </tr>\n",
       "  </thead>\n",
       "  <tbody>\n",
       "    <tr>\n",
       "      <th>0</th>\n",
       "      <td>Jack</td>\n",
       "      <td>Big Blind</td>\n",
       "      <td>gpt-3.5-turbo-1106</td>\n",
       "      <td>15</td>\n",
       "    </tr>\n",
       "    <tr>\n",
       "      <th>1</th>\n",
       "      <td>Evan</td>\n",
       "      <td>Small Blind</td>\n",
       "      <td>gpt-4-turbo</td>\n",
       "      <td>17</td>\n",
       "    </tr>\n",
       "    <tr>\n",
       "      <th>2</th>\n",
       "      <td>Evan</td>\n",
       "      <td>Dealer</td>\n",
       "      <td>gpt-4-turbo</td>\n",
       "      <td>19</td>\n",
       "    </tr>\n",
       "    <tr>\n",
       "      <th>3</th>\n",
       "      <td>Jack</td>\n",
       "      <td>Small Blind</td>\n",
       "      <td>gpt-3.5-turbo-1106</td>\n",
       "      <td>9</td>\n",
       "    </tr>\n",
       "    <tr>\n",
       "      <th>4</th>\n",
       "      <td>Evan</td>\n",
       "      <td>Big Blind</td>\n",
       "      <td>gpt-4-turbo</td>\n",
       "      <td>15</td>\n",
       "    </tr>\n",
       "  </tbody>\n",
       "</table>\n",
       "</div>"
      ],
      "text/plain": [
       "  winner  winner_role               model  winning_amount\n",
       "0   Jack    Big Blind  gpt-3.5-turbo-1106              15\n",
       "1   Evan  Small Blind         gpt-4-turbo              17\n",
       "2   Evan       Dealer         gpt-4-turbo              19\n",
       "3   Jack  Small Blind  gpt-3.5-turbo-1106               9\n",
       "4   Evan    Big Blind         gpt-4-turbo              15"
      ]
     },
     "execution_count": 17,
     "metadata": {},
     "output_type": "execute_result"
    }
   ],
   "source": [
    "df_winning_stats.head()"
   ]
  },
  {
   "cell_type": "code",
   "execution_count": 18,
   "metadata": {},
   "outputs": [
    {
     "data": {
      "image/png": "[encoded data removed]",
      "text/plain": [
       "<Figure size 1500x1000 with 1 Axes>"
      ]
     },
     "metadata": {},
     "output_type": "display_data"
    }
   ],
   "source": [
    "# plot the barchart of victories by model and winner name\n",
    "import matplotlib.pyplot as plt\n",
    "import seaborn as sns\n",
    "# set the size of the plot\n",
    "plt.figure(figsize=(15, 10))\n",
    "# set the name of the x-axis\n",
    "plt.xlabel('Winner')\n",
    "# set the name of the y-axis\n",
    "plt.ylabel('Winning amount')\n",
    "sns.barplot(x='winner', y='winning_amount', hue='model', data=df_winning_stats);\n"
   ]
  },
  {
   "cell_type": "code",
   "execution_count": 19,
   "metadata": {},
   "outputs": [
    {
     "data": {
      "text/plain": [
       "model               winner\n",
       "gpt-3.5-turbo-1106  Jack       8\n",
       "gpt-4-turbo         Evan      11\n",
       "gpt-4o              Owen       2\n",
       "dtype: int64"
      ]
     },
     "execution_count": 19,
     "metadata": {},
     "output_type": "execute_result"
    }
   ],
   "source": [
    "# count the number of victories by model and winner name\n",
    "df_winning_stats.groupby(['model', 'winner']).size()"
   ]
  },
  {
   "cell_type": "code",
   "execution_count": 20,
   "metadata": {},
   "outputs": [
    {
     "name": "stderr",
     "output_type": "stream",
     "text": [
      "/tmp/ipykernel_322176/1867170868.py:2: FutureWarning: The default value of numeric_only in DataFrameGroupBy.sum is deprecated. In a future version, numeric_only will default to False. Either specify numeric_only or select only columns which should be valid for the function.\n",
      "  df_winning_stats.groupby(['model', 'winner']).sum()\n"
     ]
    },
    {
     "data": {
      "text/html": [
       "<div>\n",
       "<style scoped>\n",
       "    .dataframe tbody tr th:only-of-type {\n",
       "        vertical-align: middle;\n",
       "    }\n",
       "\n",
       "    .dataframe tbody tr th {\n",
       "        vertical-align: top;\n",
       "    }\n",
       "\n",
       "    .dataframe thead th {\n",
       "        text-align: right;\n",
       "    }\n",
       "</style>\n",
       "<table border=\"1\" class=\"dataframe\">\n",
       "  <thead>\n",
       "    <tr style=\"text-align: right;\">\n",
       "      <th></th>\n",
       "      <th></th>\n",
       "      <th>winning_amount</th>\n",
       "    </tr>\n",
       "    <tr>\n",
       "      <th>model</th>\n",
       "      <th>winner</th>\n",
       "      <th></th>\n",
       "    </tr>\n",
       "  </thead>\n",
       "  <tbody>\n",
       "    <tr>\n",
       "      <th>gpt-3.5-turbo-1106</th>\n",
       "      <th>Jack</th>\n",
       "      <td>116</td>\n",
       "    </tr>\n",
       "    <tr>\n",
       "      <th>gpt-4-turbo</th>\n",
       "      <th>Evan</th>\n",
       "      <td>173</td>\n",
       "    </tr>\n",
       "    <tr>\n",
       "      <th>gpt-4o</th>\n",
       "      <th>Owen</th>\n",
       "      <td>36</td>\n",
       "    </tr>\n",
       "  </tbody>\n",
       "</table>\n",
       "</div>"
      ],
      "text/plain": [
       "                           winning_amount\n",
       "model              winner                \n",
       "gpt-3.5-turbo-1106 Jack               116\n",
       "gpt-4-turbo        Evan               173\n",
       "gpt-4o             Owen                36"
      ]
     },
     "execution_count": 20,
     "metadata": {},
     "output_type": "execute_result"
    }
   ],
   "source": [
    "# sum the winning amount by model and winner name\n",
    "df_winning_stats.groupby(['model', 'winner']).sum()"
   ]
  },
  {
   "cell_type": "code",
   "execution_count": 21,
   "metadata": {},
   "outputs": [
    {
     "name": "stderr",
     "output_type": "stream",
     "text": [
      "/tmp/ipykernel_322176/736136457.py:2: FutureWarning: The default value of numeric_only in DataFrameGroupBy.mean is deprecated. In a future version, numeric_only will default to False. Either specify numeric_only or select only columns which should be valid for the function.\n",
      "  df_winning_stats.groupby(['model', 'winner']).mean()\n"
     ]
    },
    {
     "data": {
      "text/html": [
       "<div>\n",
       "<style scoped>\n",
       "    .dataframe tbody tr th:only-of-type {\n",
       "        vertical-align: middle;\n",
       "    }\n",
       "\n",
       "    .dataframe tbody tr th {\n",
       "        vertical-align: top;\n",
       "    }\n",
       "\n",
       "    .dataframe thead th {\n",
       "        text-align: right;\n",
       "    }\n",
       "</style>\n",
       "<table border=\"1\" class=\"dataframe\">\n",
       "  <thead>\n",
       "    <tr style=\"text-align: right;\">\n",
       "      <th></th>\n",
       "      <th></th>\n",
       "      <th>winning_amount</th>\n",
       "    </tr>\n",
       "    <tr>\n",
       "      <th>model</th>\n",
       "      <th>winner</th>\n",
       "      <th></th>\n",
       "    </tr>\n",
       "  </thead>\n",
       "  <tbody>\n",
       "    <tr>\n",
       "      <th>gpt-3.5-turbo-1106</th>\n",
       "      <th>Jack</th>\n",
       "      <td>14.500000</td>\n",
       "    </tr>\n",
       "    <tr>\n",
       "      <th>gpt-4-turbo</th>\n",
       "      <th>Evan</th>\n",
       "      <td>15.727273</td>\n",
       "    </tr>\n",
       "    <tr>\n",
       "      <th>gpt-4o</th>\n",
       "      <th>Owen</th>\n",
       "      <td>18.000000</td>\n",
       "    </tr>\n",
       "  </tbody>\n",
       "</table>\n",
       "</div>"
      ],
      "text/plain": [
       "                           winning_amount\n",
       "model              winner                \n",
       "gpt-3.5-turbo-1106 Jack         14.500000\n",
       "gpt-4-turbo        Evan         15.727273\n",
       "gpt-4o             Owen         18.000000"
      ]
     },
     "execution_count": 21,
     "metadata": {},
     "output_type": "execute_result"
    }
   ],
   "source": [
    "# get the average winning amount by model and winner name\n",
    "df_winning_stats.groupby(['model', 'winner']).mean()"
   ]
  },
  {
   "cell_type": "code",
   "execution_count": 22,
   "metadata": {},
   "outputs": [
    {
     "data": {
      "text/plain": [
       "winner_role\n",
       "Big Blind      8\n",
       "Dealer         7\n",
       "Small Blind    6\n",
       "dtype: int64"
      ]
     },
     "execution_count": 22,
     "metadata": {},
     "output_type": "execute_result"
    }
   ],
   "source": [
    "# count the number of victories by role\n",
    "df_winning_stats.groupby(['winner_role']).size()"
   ]
  },
  {
   "cell_type": "code",
   "execution_count": 23,
   "metadata": {},
   "outputs": [
    {
     "name": "stderr",
     "output_type": "stream",
     "text": [
      "/tmp/ipykernel_322176/1299034.py:2: FutureWarning: The default value of numeric_only in DataFrameGroupBy.sum is deprecated. In a future version, numeric_only will default to False. Either specify numeric_only or select only columns which should be valid for the function.\n",
      "  df_winning_stats.groupby(['winner_role']).sum()\n"
     ]
    },
    {
     "data": {
      "text/html": [
       "<div>\n",
       "<style scoped>\n",
       "    .dataframe tbody tr th:only-of-type {\n",
       "        vertical-align: middle;\n",
       "    }\n",
       "\n",
       "    .dataframe tbody tr th {\n",
       "        vertical-align: top;\n",
       "    }\n",
       "\n",
       "    .dataframe thead th {\n",
       "        text-align: right;\n",
       "    }\n",
       "</style>\n",
       "<table border=\"1\" class=\"dataframe\">\n",
       "  <thead>\n",
       "    <tr style=\"text-align: right;\">\n",
       "      <th></th>\n",
       "      <th>winning_amount</th>\n",
       "    </tr>\n",
       "    <tr>\n",
       "      <th>winner_role</th>\n",
       "      <th></th>\n",
       "    </tr>\n",
       "  </thead>\n",
       "  <tbody>\n",
       "    <tr>\n",
       "      <th>Big Blind</th>\n",
       "      <td>120</td>\n",
       "    </tr>\n",
       "    <tr>\n",
       "      <th>Dealer</th>\n",
       "      <td>123</td>\n",
       "    </tr>\n",
       "    <tr>\n",
       "      <th>Small Blind</th>\n",
       "      <td>82</td>\n",
       "    </tr>\n",
       "  </tbody>\n",
       "</table>\n",
       "</div>"
      ],
      "text/plain": [
       "             winning_amount\n",
       "winner_role                \n",
       "Big Blind               120\n",
       "Dealer                  123\n",
       "Small Blind              82"
      ]
     },
     "execution_count": 23,
     "metadata": {},
     "output_type": "execute_result"
    }
   ],
   "source": [
    "# sum the winning amount by role\n",
    "df_winning_stats.groupby(['winner_role']).sum()"
   ]
  },
  {
   "cell_type": "code",
   "execution_count": 25,
   "metadata": {},
   "outputs": [],
   "source": [
    "games_with_errors = list(filter(lambda x: 'errors' in x.keys(), games))\n",
    "df_games_with_errors = pd.DataFrame(games_with_errors)"
   ]
  },
  {
   "cell_type": "code",
   "execution_count": 26,
   "metadata": {},
   "outputs": [
    {
     "data": {
      "text/html": [
       "<div>\n",
       "<style scoped>\n",
       "    .dataframe tbody tr th:only-of-type {\n",
       "        vertical-align: middle;\n",
       "    }\n",
       "\n",
       "    .dataframe tbody tr th {\n",
       "        vertical-align: top;\n",
       "    }\n",
       "\n",
       "    .dataframe thead th {\n",
       "        text-align: right;\n",
       "    }\n",
       "</style>\n",
       "<table border=\"1\" class=\"dataframe\">\n",
       "  <thead>\n",
       "    <tr style=\"text-align: right;\">\n",
       "      <th></th>\n",
       "      <th>bet_history</th>\n",
       "      <th>reasoning_history</th>\n",
       "      <th>errors</th>\n",
       "      <th>winner</th>\n",
       "      <th>role</th>\n",
       "      <th>winner_model</th>\n",
       "      <th>winning_amount</th>\n",
       "      <th>id</th>\n",
       "    </tr>\n",
       "  </thead>\n",
       "  <tbody>\n",
       "    <tr>\n",
       "      <th>0</th>\n",
       "      <td>[(Evan, 1, Small Blind, Pre-flop), (Jack, 2, B...</td>\n",
       "      <td>[(Owen, With a Jack and a 4 of clubs, my hand ...</td>\n",
       "      <td>[Jack doesn't have enough chips to bet 10., Ja...</td>\n",
       "      <td>Jack</td>\n",
       "      <td>Big Blind</td>\n",
       "      <td>gpt-3.5-turbo-1106</td>\n",
       "      <td>15</td>\n",
       "      <td>29</td>\n",
       "    </tr>\n",
       "    <tr>\n",
       "      <th>1</th>\n",
       "      <td>[(Jack, 1, Small Blind, Pre-flop), (Owen, 2, B...</td>\n",
       "      <td>[(Evan, Given that the hand 5 of Spades and 9 ...</td>\n",
       "      <td>[Jack doesn't have enough chips to bet 9., Jac...</td>\n",
       "      <td>Jack</td>\n",
       "      <td>Small Blind</td>\n",
       "      <td>gpt-3.5-turbo-1106</td>\n",
       "      <td>9</td>\n",
       "      <td>43</td>\n",
       "    </tr>\n",
       "    <tr>\n",
       "      <th>2</th>\n",
       "      <td>[(Owen, 1, Small Blind, Pre-flop), (Jack, 2, B...</td>\n",
       "      <td>[(Evan, Holding a King of Clubs and Ace of Spa...</td>\n",
       "      <td>[Evan doesn't have enough chips to bet 12., Ja...</td>\n",
       "      <td>Jack</td>\n",
       "      <td>Big Blind</td>\n",
       "      <td>gpt-3.5-turbo-1106</td>\n",
       "      <td>9</td>\n",
       "      <td>20</td>\n",
       "    </tr>\n",
       "    <tr>\n",
       "      <th>3</th>\n",
       "      <td>[(Evan, 1, Small Blind, Pre-flop), (Jack, 2, B...</td>\n",
       "      <td>[(Owen, With a Queen and a Ten, I have a reaso...</td>\n",
       "      <td>[Jack doesn't have enough chips to bet 10., Ja...</td>\n",
       "      <td>Jack</td>\n",
       "      <td>Big Blind</td>\n",
       "      <td>gpt-3.5-turbo-1106</td>\n",
       "      <td>13</td>\n",
       "      <td>6</td>\n",
       "    </tr>\n",
       "  </tbody>\n",
       "</table>\n",
       "</div>"
      ],
      "text/plain": [
       "                                         bet_history  \\\n",
       "0  [(Evan, 1, Small Blind, Pre-flop), (Jack, 2, B...   \n",
       "1  [(Jack, 1, Small Blind, Pre-flop), (Owen, 2, B...   \n",
       "2  [(Owen, 1, Small Blind, Pre-flop), (Jack, 2, B...   \n",
       "3  [(Evan, 1, Small Blind, Pre-flop), (Jack, 2, B...   \n",
       "\n",
       "                                   reasoning_history  \\\n",
       "0  [(Owen, With a Jack and a 4 of clubs, my hand ...   \n",
       "1  [(Evan, Given that the hand 5 of Spades and 9 ...   \n",
       "2  [(Evan, Holding a King of Clubs and Ace of Spa...   \n",
       "3  [(Owen, With a Queen and a Ten, I have a reaso...   \n",
       "\n",
       "                                              errors winner         role  \\\n",
       "0  [Jack doesn't have enough chips to bet 10., Ja...   Jack    Big Blind   \n",
       "1  [Jack doesn't have enough chips to bet 9., Jac...   Jack  Small Blind   \n",
       "2  [Evan doesn't have enough chips to bet 12., Ja...   Jack    Big Blind   \n",
       "3  [Jack doesn't have enough chips to bet 10., Ja...   Jack    Big Blind   \n",
       "\n",
       "         winner_model  winning_amount  id  \n",
       "0  gpt-3.5-turbo-1106              15  29  \n",
       "1  gpt-3.5-turbo-1106               9  43  \n",
       "2  gpt-3.5-turbo-1106               9  20  \n",
       "3  gpt-3.5-turbo-1106              13   6  "
      ]
     },
     "execution_count": 26,
     "metadata": {},
     "output_type": "execute_result"
    }
   ],
   "source": [
    "df_games_with_errors.head()"
   ]
  },
  {
   "cell_type": "code",
   "execution_count": 27,
   "metadata": {},
   "outputs": [],
   "source": [
    "errors_concatenated = df_games_with_errors['errors'].apply(pd.Series).stack().reset_index(drop=True)"
   ]
  },
  {
   "cell_type": "code",
   "execution_count": 28,
   "metadata": {},
   "outputs": [],
   "source": [
    "error_names = list(map(lambda x: x.split()[0], errors_concatenated))"
   ]
  },
  {
   "cell_type": "code",
   "execution_count": 29,
   "metadata": {},
   "outputs": [],
   "source": [
    "# count the number of errors by error name\n",
    "errors_count = pd.Series(error_names).value_counts()"
   ]
  },
  {
   "cell_type": "code",
   "execution_count": 30,
   "metadata": {},
   "outputs": [
    {
     "data": {
      "text/plain": [
       "Jack    8\n",
       "Evan    1\n",
       "dtype: int64"
      ]
     },
     "execution_count": 30,
     "metadata": {},
     "output_type": "execute_result"
    }
   ],
   "source": [
    "errors_count"
   ]
  },
  {
   "cell_type": "code",
   "execution_count": null,
   "metadata": {},
   "outputs": [],
   "source": []
  }
 ],
 "metadata": {
  "kernelspec": {
   "display_name": "logineko_knowledge_base",
   "language": "python",
   "name": "python3"
  },
  "language_info": {
   "codemirror_mode": {
    "name": "ipython",
    "version": 3
   },
   "file_extension": ".py",
   "mimetype": "text/x-python",
   "name": "python",
   "nbconvert_exporter": "python",
   "pygments_lexer": "ipython3",
   "version": "3.11.8"
  }
 },
 "nbformat": 4,
 "nbformat_minor": 2
}
