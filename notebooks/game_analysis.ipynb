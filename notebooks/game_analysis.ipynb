{
 "cells": [
  {
   "cell_type": "code",
   "execution_count": 1,
   "metadata": {},
   "outputs": [],
   "source": [
    "import glob\n",
    "import pandas as pd\n",
    "import pickle"
   ]
  },
  {
   "cell_type": "code",
   "execution_count": 2,
   "metadata": {},
   "outputs": [],
   "source": [
    "game_files = glob.glob('../data/complex_evaluation/*.pkl')"
   ]
  },
  {
   "cell_type": "code",
   "execution_count": 3,
   "metadata": {},
   "outputs": [],
   "source": [
    "games = []\n",
    "for game_file in game_files:\n",
    "    with open(game_file, 'rb') as file:\n",
    "        game = pickle.load(file)\n",
    "        game['id'] = int(game_file.split('/')[-1].split('.')[0].split('_')[-1])\n",
    "        games.append(game)"
   ]
  },
  {
   "cell_type": "code",
   "execution_count": 5,
   "metadata": {},
   "outputs": [
    {
     "data": {
      "text/plain": [
       "{'bet_history': [('Bob', 1, 'Small Blind', 'Pre-flop'),\n",
       "  ('Charlie', 2, 'Big Blind', 'Pre-flop')],\n",
       " 'reasoning_history': [('Alice',\n",
       "   'I will call the current bet of 2 as my hand has potential with a high card and a queen. Since the community cards are still empty, I want to see the next cards before making any aggressive moves.',\n",
       "   'Pre-flop'),\n",
       "  ('Alice',\n",
       "   'I will raise the current bet to 5. With a Queen and Ace of hearts, I have a strong hand, and the community cards show potential for a flush or straight. I want to increase the pot size and put pressure on my opponents.',\n",
       "   'Flop'),\n",
       "  ('Bob',\n",
       "   \"With a pair of Jacks showing on the board and holding another Jack, there's a potential for a strong hand, making it reasonable to stay in the game by calling. The current bet is 2 chips, which is affordable given my chip count of 9. The hand shows potential without significant aggressive betting from opponents, suggesting a safe call to see the next community card.\",\n",
       "   'Flop'),\n",
       "  ('Charlie',\n",
       "   \"Your current hand is a pair of 4s, which is not particularly strong, but it does have some potential. The current bet to call is 2 chips, and you have enough chips to make the call. Since the bet is reasonable and you want to see the next card to possibly improve your hand, calling is a prudent decision. Folding would be too conservative given the reasonable bet, and raising wouldn't be advisable with such a marginal hand.\",\n",
       "   'Flop'),\n",
       "  ('Alice',\n",
       "   'I will call the current bet of 2 because I have a strong hand with a potential flush (Q and A of hearts) and the current bet is reasonable. I want to see the next community card and potentially increase the pot size.',\n",
       "   'Turn'),\n",
       "  ('Bob',\n",
       "   \"With a pair of Jacks in hand from the community cards and a low current bet of 2, it's reasonable to call. The hand has potential to improve on the river, and the investment risk is low relative to the potential gain. Despite having a limited stack, the current bet is manageable and worth contesting given the strength of the pair.\",\n",
       "   'Turn'),\n",
       "  ('Charlie',\n",
       "   'With a pair of 4s from my hand and the community cards, I have a weak pair. However, the current bet is 2, which is reasonable given my chip stack of 6. There is potential for improvement with a 5 on the river or another 4, making a stronger hand. Folding would be too conservative at this stage, and raising would be too risky with my current weak pair. Therefore, calling is the best option to stay in the game and see the next card.',\n",
       "   'Turn'),\n",
       "  ('Alice',\n",
       "   'I will raise the bet. With a pair of queens, I have a strong hand and want to increase the pot size. The community cards also give me a potential for a flush with my two hearts, so I want to pressure my opponents to either fold or contribute more to the pot.',\n",
       "   'River'),\n",
       "  ('Bob',\n",
       "   \"With a pair of Jacks on the board and no flush possibility, the hand has moderate strength. The current bet value is 2, which is affordable with the remaining chips of 5. Calling the bet could potentially win the pot if opponents do not have a King or a stronger hand. The risk is manageable given the hand's potential, and folding could be too conservative in this scenario.\",\n",
       "   'River'),\n",
       "  ('Charlie',\n",
       "   'With a current hand of 4♣ and 5♣, my pair of 4s is weak compared to the community cards. The board shows high-value cards: 7♦, J♠, 4♠, K♦, Q♦, indicating potential for stronger hands like straights or higher pairs from opponents. Additionally, I only have 4 chips left, and the current bet is 2, which is half of my stack. Given the situation and the likelihood that opponents have stronger hands, folding is the prudent choice to preserve my remaining chips.',\n",
       "   'River')],\n",
       " 'winner': 'Alice',\n",
       " 'role': 'Dealer',\n",
       " 'winner_model': 'gpt-3.5-turbo-1106',\n",
       " 'winning_amount': 23,\n",
       " 'id': 92}"
      ]
     },
     "execution_count": 5,
     "metadata": {},
     "output_type": "execute_result"
    }
   ],
   "source": [
    "games[0]"
   ]
  },
  {
   "cell_type": "code",
   "execution_count": 56,
   "metadata": {},
   "outputs": [],
   "source": [
    "games_with_winners = list(filter(lambda x: 'winner' in x.keys(), games))\n",
    "winning_stats = list(map(lambda x: {'winner': x['winner'], 'winner_role': x['role'], 'model': x['winner_model'], 'winning_amount': x['winning_amount']}, games_with_winners))"
   ]
  },
  {
   "cell_type": "code",
   "execution_count": 57,
   "metadata": {},
   "outputs": [
    {
     "data": {
      "text/plain": [
       "75"
      ]
     },
     "execution_count": 57,
     "metadata": {},
     "output_type": "execute_result"
    }
   ],
   "source": [
    "len(winning_stats)"
   ]
  },
  {
   "cell_type": "code",
   "execution_count": 58,
   "metadata": {},
   "outputs": [],
   "source": [
    "df_winning_stats = pd.DataFrame(winning_stats)"
   ]
  },
  {
   "cell_type": "code",
   "execution_count": 59,
   "metadata": {},
   "outputs": [
    {
     "data": {
      "text/html": [
       "<div>\n",
       "<style scoped>\n",
       "    .dataframe tbody tr th:only-of-type {\n",
       "        vertical-align: middle;\n",
       "    }\n",
       "\n",
       "    .dataframe tbody tr th {\n",
       "        vertical-align: top;\n",
       "    }\n",
       "\n",
       "    .dataframe thead th {\n",
       "        text-align: right;\n",
       "    }\n",
       "</style>\n",
       "<table border=\"1\" class=\"dataframe\">\n",
       "  <thead>\n",
       "    <tr style=\"text-align: right;\">\n",
       "      <th></th>\n",
       "      <th>winner</th>\n",
       "      <th>winner_role</th>\n",
       "      <th>model</th>\n",
       "      <th>winning_amount</th>\n",
       "    </tr>\n",
       "  </thead>\n",
       "  <tbody>\n",
       "    <tr>\n",
       "      <th>0</th>\n",
       "      <td>Alice</td>\n",
       "      <td>Dealer</td>\n",
       "      <td>gpt-3.5-turbo-1106</td>\n",
       "      <td>23</td>\n",
       "    </tr>\n",
       "    <tr>\n",
       "      <th>1</th>\n",
       "      <td>Charlie</td>\n",
       "      <td>Small Blind</td>\n",
       "      <td>gpt-4o</td>\n",
       "      <td>17</td>\n",
       "    </tr>\n",
       "    <tr>\n",
       "      <th>2</th>\n",
       "      <td>Alice</td>\n",
       "      <td>Big Blind</td>\n",
       "      <td>gpt-3.5-turbo-1106</td>\n",
       "      <td>19</td>\n",
       "    </tr>\n",
       "    <tr>\n",
       "      <th>3</th>\n",
       "      <td>Alice</td>\n",
       "      <td>Small Blind</td>\n",
       "      <td>gpt-3.5-turbo-1106</td>\n",
       "      <td>15</td>\n",
       "    </tr>\n",
       "    <tr>\n",
       "      <th>4</th>\n",
       "      <td>Alice</td>\n",
       "      <td>Big Blind</td>\n",
       "      <td>gpt-3.5-turbo-1106</td>\n",
       "      <td>19</td>\n",
       "    </tr>\n",
       "  </tbody>\n",
       "</table>\n",
       "</div>"
      ],
      "text/plain": [
       "    winner  winner_role               model  winning_amount\n",
       "0    Alice       Dealer  gpt-3.5-turbo-1106              23\n",
       "1  Charlie  Small Blind              gpt-4o              17\n",
       "2    Alice    Big Blind  gpt-3.5-turbo-1106              19\n",
       "3    Alice  Small Blind  gpt-3.5-turbo-1106              15\n",
       "4    Alice    Big Blind  gpt-3.5-turbo-1106              19"
      ]
     },
     "execution_count": 59,
     "metadata": {},
     "output_type": "execute_result"
    }
   ],
   "source": [
    "df_winning_stats.head()"
   ]
  },
  {
   "cell_type": "code",
   "execution_count": 60,
   "metadata": {},
   "outputs": [
    {
     "data": {
      "image/png": "[encoded data removed]",
      "text/plain": [
       "<Figure size 1500x1000 with 1 Axes>"
      ]
     },
     "metadata": {},
     "output_type": "display_data"
    }
   ],
   "source": [
    "# plot the barchart of victories by model and winner name\n",
    "import matplotlib.pyplot as plt\n",
    "import seaborn as sns\n",
    "# set the size of the plot\n",
    "plt.figure(figsize=(15, 10))\n",
    "# set the name of the x-axis\n",
    "plt.xlabel('Winner')\n",
    "# set the name of the y-axis\n",
    "plt.ylabel('Winning amount')\n",
    "sns.barplot(x='winner', y='winning_amount', hue='model', data=df_winning_stats);\n"
   ]
  },
  {
   "cell_type": "code",
   "execution_count": 61,
   "metadata": {},
   "outputs": [
    {
     "data": {
      "text/plain": [
       "model               winner \n",
       "gpt-3.5-turbo-1106  Alice      34\n",
       "gpt-4-turbo         Bob        17\n",
       "gpt-4o              Charlie    24\n",
       "dtype: int64"
      ]
     },
     "execution_count": 61,
     "metadata": {},
     "output_type": "execute_result"
    }
   ],
   "source": [
    "# count the number of victories by model and winner name\n",
    "df_winning_stats.groupby(['model', 'winner']).size()"
   ]
  },
  {
   "cell_type": "code",
   "execution_count": 62,
   "metadata": {},
   "outputs": [
    {
     "name": "stderr",
     "output_type": "stream",
     "text": [
      "/tmp/ipykernel_182626/1867170868.py:2: FutureWarning: The default value of numeric_only in DataFrameGroupBy.sum is deprecated. In a future version, numeric_only will default to False. Either specify numeric_only or select only columns which should be valid for the function.\n",
      "  df_winning_stats.groupby(['model', 'winner']).sum()\n"
     ]
    },
    {
     "data": {
      "text/html": [
       "<div>\n",
       "<style scoped>\n",
       "    .dataframe tbody tr th:only-of-type {\n",
       "        vertical-align: middle;\n",
       "    }\n",
       "\n",
       "    .dataframe tbody tr th {\n",
       "        vertical-align: top;\n",
       "    }\n",
       "\n",
       "    .dataframe thead th {\n",
       "        text-align: right;\n",
       "    }\n",
       "</style>\n",
       "<table border=\"1\" class=\"dataframe\">\n",
       "  <thead>\n",
       "    <tr style=\"text-align: right;\">\n",
       "      <th></th>\n",
       "      <th></th>\n",
       "      <th>winning_amount</th>\n",
       "    </tr>\n",
       "    <tr>\n",
       "      <th>model</th>\n",
       "      <th>winner</th>\n",
       "      <th></th>\n",
       "    </tr>\n",
       "  </thead>\n",
       "  <tbody>\n",
       "    <tr>\n",
       "      <th>gpt-3.5-turbo-1106</th>\n",
       "      <th>Alice</th>\n",
       "      <td>583</td>\n",
       "    </tr>\n",
       "    <tr>\n",
       "      <th>gpt-4-turbo</th>\n",
       "      <th>Bob</th>\n",
       "      <td>317</td>\n",
       "    </tr>\n",
       "    <tr>\n",
       "      <th>gpt-4o</th>\n",
       "      <th>Charlie</th>\n",
       "      <td>419</td>\n",
       "    </tr>\n",
       "  </tbody>\n",
       "</table>\n",
       "</div>"
      ],
      "text/plain": [
       "                            winning_amount\n",
       "model              winner                 \n",
       "gpt-3.5-turbo-1106 Alice               583\n",
       "gpt-4-turbo        Bob                 317\n",
       "gpt-4o             Charlie             419"
      ]
     },
     "execution_count": 62,
     "metadata": {},
     "output_type": "execute_result"
    }
   ],
   "source": [
    "# sum the winning amount by model and winner name\n",
    "df_winning_stats.groupby(['model', 'winner']).sum()"
   ]
  },
  {
   "cell_type": "code",
   "execution_count": 71,
   "metadata": {},
   "outputs": [
    {
     "name": "stderr",
     "output_type": "stream",
     "text": [
      "/tmp/ipykernel_182626/736136457.py:2: FutureWarning: The default value of numeric_only in DataFrameGroupBy.mean is deprecated. In a future version, numeric_only will default to False. Either specify numeric_only or select only columns which should be valid for the function.\n",
      "  df_winning_stats.groupby(['model', 'winner']).mean()\n"
     ]
    },
    {
     "data": {
      "text/html": [
       "<div>\n",
       "<style scoped>\n",
       "    .dataframe tbody tr th:only-of-type {\n",
       "        vertical-align: middle;\n",
       "    }\n",
       "\n",
       "    .dataframe tbody tr th {\n",
       "        vertical-align: top;\n",
       "    }\n",
       "\n",
       "    .dataframe thead th {\n",
       "        text-align: right;\n",
       "    }\n",
       "</style>\n",
       "<table border=\"1\" class=\"dataframe\">\n",
       "  <thead>\n",
       "    <tr style=\"text-align: right;\">\n",
       "      <th></th>\n",
       "      <th></th>\n",
       "      <th>winning_amount</th>\n",
       "    </tr>\n",
       "    <tr>\n",
       "      <th>model</th>\n",
       "      <th>winner</th>\n",
       "      <th></th>\n",
       "    </tr>\n",
       "  </thead>\n",
       "  <tbody>\n",
       "    <tr>\n",
       "      <th>gpt-3.5-turbo-1106</th>\n",
       "      <th>Alice</th>\n",
       "      <td>17.147059</td>\n",
       "    </tr>\n",
       "    <tr>\n",
       "      <th>gpt-4-turbo</th>\n",
       "      <th>Bob</th>\n",
       "      <td>18.647059</td>\n",
       "    </tr>\n",
       "    <tr>\n",
       "      <th>gpt-4o</th>\n",
       "      <th>Charlie</th>\n",
       "      <td>17.458333</td>\n",
       "    </tr>\n",
       "  </tbody>\n",
       "</table>\n",
       "</div>"
      ],
      "text/plain": [
       "                            winning_amount\n",
       "model              winner                 \n",
       "gpt-3.5-turbo-1106 Alice         17.147059\n",
       "gpt-4-turbo        Bob           18.647059\n",
       "gpt-4o             Charlie       17.458333"
      ]
     },
     "execution_count": 71,
     "metadata": {},
     "output_type": "execute_result"
    }
   ],
   "source": [
    "# get the average winning amount by model and winner name\n",
    "df_winning_stats.groupby(['model', 'winner']).mean()"
   ]
  },
  {
   "cell_type": "code",
   "execution_count": 63,
   "metadata": {},
   "outputs": [
    {
     "data": {
      "text/plain": [
       "winner_role\n",
       "Big Blind      28\n",
       "Dealer         24\n",
       "Small Blind    23\n",
       "dtype: int64"
      ]
     },
     "execution_count": 63,
     "metadata": {},
     "output_type": "execute_result"
    }
   ],
   "source": [
    "# count the number of victories by role\n",
    "df_winning_stats.groupby(['winner_role']).size()"
   ]
  },
  {
   "cell_type": "code",
   "execution_count": 64,
   "metadata": {},
   "outputs": [
    {
     "name": "stderr",
     "output_type": "stream",
     "text": [
      "/tmp/ipykernel_182626/1299034.py:2: FutureWarning: The default value of numeric_only in DataFrameGroupBy.sum is deprecated. In a future version, numeric_only will default to False. Either specify numeric_only or select only columns which should be valid for the function.\n",
      "  df_winning_stats.groupby(['winner_role']).sum()\n"
     ]
    },
    {
     "data": {
      "text/html": [
       "<div>\n",
       "<style scoped>\n",
       "    .dataframe tbody tr th:only-of-type {\n",
       "        vertical-align: middle;\n",
       "    }\n",
       "\n",
       "    .dataframe tbody tr th {\n",
       "        vertical-align: top;\n",
       "    }\n",
       "\n",
       "    .dataframe thead th {\n",
       "        text-align: right;\n",
       "    }\n",
       "</style>\n",
       "<table border=\"1\" class=\"dataframe\">\n",
       "  <thead>\n",
       "    <tr style=\"text-align: right;\">\n",
       "      <th></th>\n",
       "      <th>winning_amount</th>\n",
       "    </tr>\n",
       "    <tr>\n",
       "      <th>winner_role</th>\n",
       "      <th></th>\n",
       "    </tr>\n",
       "  </thead>\n",
       "  <tbody>\n",
       "    <tr>\n",
       "      <th>Big Blind</th>\n",
       "      <td>462</td>\n",
       "    </tr>\n",
       "    <tr>\n",
       "      <th>Dealer</th>\n",
       "      <td>446</td>\n",
       "    </tr>\n",
       "    <tr>\n",
       "      <th>Small Blind</th>\n",
       "      <td>411</td>\n",
       "    </tr>\n",
       "  </tbody>\n",
       "</table>\n",
       "</div>"
      ],
      "text/plain": [
       "             winning_amount\n",
       "winner_role                \n",
       "Big Blind               462\n",
       "Dealer                  446\n",
       "Small Blind             411"
      ]
     },
     "execution_count": 64,
     "metadata": {},
     "output_type": "execute_result"
    }
   ],
   "source": [
    "# sum the winning amount by role\n",
    "df_winning_stats.groupby(['winner_role']).sum()"
   ]
  },
  {
   "cell_type": "code",
   "execution_count": 65,
   "metadata": {},
   "outputs": [],
   "source": [
    "games_with_errors = list(filter(lambda x: 'errors' in x.keys(), games))\n",
    "df_games_with_errors = pd.DataFrame(games_with_errors)"
   ]
  },
  {
   "cell_type": "code",
   "execution_count": 66,
   "metadata": {},
   "outputs": [
    {
     "data": {
      "text/html": [
       "<div>\n",
       "<style scoped>\n",
       "    .dataframe tbody tr th:only-of-type {\n",
       "        vertical-align: middle;\n",
       "    }\n",
       "\n",
       "    .dataframe tbody tr th {\n",
       "        vertical-align: top;\n",
       "    }\n",
       "\n",
       "    .dataframe thead th {\n",
       "        text-align: right;\n",
       "    }\n",
       "</style>\n",
       "<table border=\"1\" class=\"dataframe\">\n",
       "  <thead>\n",
       "    <tr style=\"text-align: right;\">\n",
       "      <th></th>\n",
       "      <th>bet_history</th>\n",
       "      <th>reasoning_history</th>\n",
       "      <th>errors</th>\n",
       "      <th>winner</th>\n",
       "      <th>role</th>\n",
       "      <th>winner_model</th>\n",
       "      <th>winning_amount</th>\n",
       "      <th>id</th>\n",
       "    </tr>\n",
       "  </thead>\n",
       "  <tbody>\n",
       "    <tr>\n",
       "      <th>0</th>\n",
       "      <td>[(Bob, 1, Small Blind, Pre-flop), (Alice, 2, B...</td>\n",
       "      <td>[(Charlie, With a Jack of Hearts and a Six of ...</td>\n",
       "      <td>[Alice doesn't have enough chips to bet 3.]</td>\n",
       "      <td>Alice</td>\n",
       "      <td>Big Blind</td>\n",
       "      <td>gpt-3.5-turbo-1106</td>\n",
       "      <td>19</td>\n",
       "      <td>94</td>\n",
       "    </tr>\n",
       "    <tr>\n",
       "      <th>1</th>\n",
       "      <td>[(Charlie, 1, Small Blind, Pre-flop), (Alice, ...</td>\n",
       "      <td>[(Bob, You have a King-high hand with a potent...</td>\n",
       "      <td>[Alice doesn't have enough chips to bet 3.]</td>\n",
       "      <td>Alice</td>\n",
       "      <td>Big Blind</td>\n",
       "      <td>gpt-3.5-turbo-1106</td>\n",
       "      <td>15</td>\n",
       "      <td>80</td>\n",
       "    </tr>\n",
       "    <tr>\n",
       "      <th>2</th>\n",
       "      <td>[(Bob, 1, Small Blind, Pre-flop), (Charlie, 2,...</td>\n",
       "      <td>[(Alice, I will call the current bet of 2, as ...</td>\n",
       "      <td>[Alice doesn't have enough chips to bet 3.]</td>\n",
       "      <td>Alice</td>\n",
       "      <td>Dealer</td>\n",
       "      <td>gpt-3.5-turbo-1106</td>\n",
       "      <td>19</td>\n",
       "      <td>55</td>\n",
       "    </tr>\n",
       "    <tr>\n",
       "      <th>3</th>\n",
       "      <td>[(Bob, 1, Small Blind, Pre-flop), (Alice, 2, B...</td>\n",
       "      <td>[(Charlie, With a Queen of Hearts and Four of ...</td>\n",
       "      <td>[Alice doesn't have enough chips to bet 3.]</td>\n",
       "      <td>Charlie</td>\n",
       "      <td>Dealer</td>\n",
       "      <td>gpt-4o</td>\n",
       "      <td>23</td>\n",
       "      <td>81</td>\n",
       "    </tr>\n",
       "    <tr>\n",
       "      <th>4</th>\n",
       "      <td>[(Bob, 1, Small Blind, Pre-flop), (Charlie, 2,...</td>\n",
       "      <td>[(Alice, I will call the current bet of 2 as m...</td>\n",
       "      <td>[Alice doesn't have enough chips to bet 3.]</td>\n",
       "      <td>Alice</td>\n",
       "      <td>Dealer</td>\n",
       "      <td>gpt-3.5-turbo-1106</td>\n",
       "      <td>15</td>\n",
       "      <td>95</td>\n",
       "    </tr>\n",
       "  </tbody>\n",
       "</table>\n",
       "</div>"
      ],
      "text/plain": [
       "                                         bet_history  \\\n",
       "0  [(Bob, 1, Small Blind, Pre-flop), (Alice, 2, B...   \n",
       "1  [(Charlie, 1, Small Blind, Pre-flop), (Alice, ...   \n",
       "2  [(Bob, 1, Small Blind, Pre-flop), (Charlie, 2,...   \n",
       "3  [(Bob, 1, Small Blind, Pre-flop), (Alice, 2, B...   \n",
       "4  [(Bob, 1, Small Blind, Pre-flop), (Charlie, 2,...   \n",
       "\n",
       "                                   reasoning_history  \\\n",
       "0  [(Charlie, With a Jack of Hearts and a Six of ...   \n",
       "1  [(Bob, You have a King-high hand with a potent...   \n",
       "2  [(Alice, I will call the current bet of 2, as ...   \n",
       "3  [(Charlie, With a Queen of Hearts and Four of ...   \n",
       "4  [(Alice, I will call the current bet of 2 as m...   \n",
       "\n",
       "                                        errors   winner       role  \\\n",
       "0  [Alice doesn't have enough chips to bet 3.]    Alice  Big Blind   \n",
       "1  [Alice doesn't have enough chips to bet 3.]    Alice  Big Blind   \n",
       "2  [Alice doesn't have enough chips to bet 3.]    Alice     Dealer   \n",
       "3  [Alice doesn't have enough chips to bet 3.]  Charlie     Dealer   \n",
       "4  [Alice doesn't have enough chips to bet 3.]    Alice     Dealer   \n",
       "\n",
       "         winner_model  winning_amount  id  \n",
       "0  gpt-3.5-turbo-1106              19  94  \n",
       "1  gpt-3.5-turbo-1106              15  80  \n",
       "2  gpt-3.5-turbo-1106              19  55  \n",
       "3              gpt-4o              23  81  \n",
       "4  gpt-3.5-turbo-1106              15  95  "
      ]
     },
     "execution_count": 66,
     "metadata": {},
     "output_type": "execute_result"
    }
   ],
   "source": [
    "df_games_with_errors.head()"
   ]
  },
  {
   "cell_type": "code",
   "execution_count": 67,
   "metadata": {},
   "outputs": [],
   "source": [
    "errors_concatenated = df_games_with_errors['errors'].apply(pd.Series).stack().reset_index(drop=True)"
   ]
  },
  {
   "cell_type": "code",
   "execution_count": 68,
   "metadata": {},
   "outputs": [],
   "source": [
    "error_names = list(map(lambda x: x.split()[0], errors_concatenated))"
   ]
  },
  {
   "cell_type": "code",
   "execution_count": 69,
   "metadata": {},
   "outputs": [],
   "source": [
    "# count the number of errors by error name\n",
    "errors_count = pd.Series(error_names).value_counts()"
   ]
  },
  {
   "cell_type": "code",
   "execution_count": 70,
   "metadata": {},
   "outputs": [
    {
     "data": {
      "text/plain": [
       "Alice    7\n",
       "dtype: int64"
      ]
     },
     "execution_count": 70,
     "metadata": {},
     "output_type": "execute_result"
    }
   ],
   "source": [
    "errors_count"
   ]
  },
  {
   "cell_type": "code",
   "execution_count": null,
   "metadata": {},
   "outputs": [],
   "source": []
  }
 ],
 "metadata": {
  "kernelspec": {
   "display_name": "logineko_knowledge_base",
   "language": "python",
   "name": "python3"
  },
  "language_info": {
   "codemirror_mode": {
    "name": "ipython",
    "version": 3
   },
   "file_extension": ".py",
   "mimetype": "text/x-python",
   "name": "python",
   "nbconvert_exporter": "python",
   "pygments_lexer": "ipython3",
   "version": "3.11.8"
  }
 },
 "nbformat": 4,
 "nbformat_minor": 2
}
